{
 "cells": [
  {
   "cell_type": "markdown",
   "metadata": {},
   "source": [
    "# Introduction to Python Programming"
   ]
  },
  {
   "cell_type": "code",
   "execution_count": 1,
   "metadata": {},
   "outputs": [
    {
     "name": "stdout",
     "output_type": "stream",
     "text": [
      "False\n",
      "None\n",
      "True\n",
      "and\n",
      "as\n",
      "assert\n",
      "async\n",
      "await\n",
      "break\n",
      "class\n",
      "continue\n",
      "def\n",
      "del\n",
      "elif\n",
      "else\n",
      "except\n",
      "finally\n",
      "for\n",
      "from\n",
      "global\n",
      "if\n",
      "import\n",
      "in\n",
      "is\n",
      "lambda\n",
      "nonlocal\n",
      "not\n",
      "or\n",
      "pass\n",
      "raise\n",
      "return\n",
      "try\n",
      "while\n",
      "with\n",
      "yield\n"
     ]
    }
   ],
   "source": [
    "# python has 33 keywords which has specific meaning and should not be used for anything else\n",
    "import keyword\n",
    "\n",
    "# Get list of keywords\n",
    "for i in keyword.kwlist:\n",
    "    print (i)"
   ]
  },
  {
   "cell_type": "markdown",
   "metadata": {},
   "source": [
    "## Data types\n",
    "### Basic types\n",
    "- int - Decimal, binary 0b, Octadecimal 0o, or Hexadecimal 0x\n",
    "- float - Fractions\n",
    "- complex - 3 + 2j\n",
    "- bool - ```True``` or ```False``` (remember Keywords)\n",
    "- string - use 'text' or \"text\"\n",
    "- bytes - binary data ?\n",
    "\n",
    "\n",
    "### Container types\n",
    "- list\n",
    "- tuple\n",
    "- set\n",
    "- dict\n",
    "\n",
    "### User defined\n",
    "- class (Refer last chapter)"
   ]
  },
  {
   "cell_type": "markdown",
   "metadata": {},
   "source": [
    "## Vaiables and assignment\n",
    "- variables should start with a letter (a - z, A - Z) or an underscore (_)\n",
    "- variable names cannot start with numbers (0 - 9)\n",
    "- variables are case sensitive -  Age and age are different variabes"
   ]
  },
  {
   "cell_type": "code",
   "execution_count": 7,
   "metadata": {},
   "outputs": [
    {
     "name": "stdout",
     "output_type": "stream",
     "text": [
      "25\n",
      "3.5\n",
      "cat\n",
      "10\n",
      "10\n",
      "10\n",
      "56\n",
      "78\n",
      "ghost\n",
      "Alphabet and Number combo\n",
      "Cool for long variable names\n"
     ]
    },
    {
     "ename": "NameError",
     "evalue": "name 'CamelCase' is not defined",
     "output_type": "error",
     "traceback": [
      "\u001b[1;31m---------------------------------------------------------------------------\u001b[0m",
      "\u001b[1;31mNameError\u001b[0m                                 Traceback (most recent call last)",
      "Cell \u001b[1;32mIn [7], line 22\u001b[0m\n\u001b[0;32m     20\u001b[0m \u001b[38;5;28mprint\u001b[39m (a9)\n\u001b[0;32m     21\u001b[0m \u001b[38;5;28mprint\u001b[39m (camelCase)\n\u001b[1;32m---> 22\u001b[0m \u001b[38;5;28mprint\u001b[39m (\u001b[43mCamelCase\u001b[49m) \u001b[38;5;66;03m# Note the error\u001b[39;00m\n",
      "\u001b[1;31mNameError\u001b[0m: name 'CamelCase' is not defined"
     ]
    }
   ],
   "source": [
    "# All of the below are valid assignemnts\n",
    "a = 25\n",
    "b = 3.5\n",
    "c = \"cat\"\n",
    "d = e = f = 10\n",
    "i, j = 56, 78\n",
    "_user = 'ghost'\n",
    "a9 =\"Alphabet and Number combo\"\n",
    "camelCase = \"Cool for long variable names\"\n",
    "\n",
    "print (a)\n",
    "print (b)\n",
    "print (c)\n",
    "print (d)\n",
    "print (e)\n",
    "print (f)\n",
    "print (i)\n",
    "print (j)\n",
    "print (_user)\n",
    "print (a9)\n",
    "print (camelCase)\n",
    "print (CamelCase) # Note the error"
   ]
  },
  {
   "cell_type": "markdown",
   "metadata": {},
   "source": [
    "## Arthimatic operator\n",
    "\n",
    ">BEDMAS rule applies"
   ]
  },
  {
   "cell_type": "code",
   "execution_count": 17,
   "metadata": {},
   "outputs": [
    {
     "name": "stdout",
     "output_type": "stream",
     "text": [
      "16\n"
     ]
    }
   ],
   "source": [
    "a = 5\n",
    "b = 11\n",
    "c = a + b\n",
    "print (c)"
   ]
  },
  {
   "cell_type": "code",
   "execution_count": 18,
   "metadata": {},
   "outputs": [
    {
     "data": {
      "text/plain": [
       "0.45454545454545453"
      ]
     },
     "execution_count": 18,
     "metadata": {},
     "output_type": "execute_result"
    }
   ],
   "source": [
    "a / b"
   ]
  },
  {
   "cell_type": "code",
   "execution_count": 19,
   "metadata": {},
   "outputs": [
    {
     "data": {
      "text/plain": [
       "2"
      ]
     },
     "execution_count": 19,
     "metadata": {},
     "output_type": "execute_result"
    }
   ],
   "source": [
    "b // a"
   ]
  },
  {
   "cell_type": "code",
   "execution_count": 20,
   "metadata": {},
   "outputs": [
    {
     "data": {
      "text/plain": [
       "1"
      ]
     },
     "execution_count": 20,
     "metadata": {},
     "output_type": "execute_result"
    }
   ],
   "source": [
    "b % a"
   ]
  },
  {
   "cell_type": "markdown",
   "metadata": {},
   "source": [
    "## Built-in functions\n"
   ]
  },
  {
   "cell_type": "code",
   "execution_count": 21,
   "metadata": {},
   "outputs": [
    {
     "name": "stdout",
     "output_type": "stream",
     "text": [
      "NTPC\n"
     ]
    }
   ],
   "source": [
    "print(\"NTPC\")"
   ]
  },
  {
   "cell_type": "code",
   "execution_count": 22,
   "metadata": {},
   "outputs": [
    {
     "data": {
      "text/plain": [
       "2"
      ]
     },
     "execution_count": 22,
     "metadata": {},
     "output_type": "execute_result"
    }
   ],
   "source": [
    "max(1, 2)"
   ]
  },
  {
   "cell_type": "code",
   "execution_count": 23,
   "metadata": {},
   "outputs": [
    {
     "data": {
      "text/plain": [
       "12"
      ]
     },
     "execution_count": 23,
     "metadata": {},
     "output_type": "execute_result"
    }
   ],
   "source": [
    "min(12, 56)"
   ]
  },
  {
   "cell_type": "code",
   "execution_count": 24,
   "metadata": {},
   "outputs": [
    {
     "data": {
      "text/plain": [
       "9"
      ]
     },
     "execution_count": 24,
     "metadata": {},
     "output_type": "execute_result"
    }
   ],
   "source": [
    "abs(-9)"
   ]
  },
  {
   "cell_type": "code",
   "execution_count": 27,
   "metadata": {},
   "outputs": [
    {
     "data": {
      "text/plain": [
       "3.141592653589793"
      ]
     },
     "execution_count": 27,
     "metadata": {},
     "output_type": "execute_result"
    }
   ],
   "source": [
    "import math\n",
    "math.pi"
   ]
  },
  {
   "cell_type": "code",
   "execution_count": 28,
   "metadata": {},
   "outputs": [
    {
     "data": {
      "text/plain": [
       "2.718281828459045"
      ]
     },
     "execution_count": 28,
     "metadata": {},
     "output_type": "execute_result"
    }
   ],
   "source": [
    "math.e"
   ]
  },
  {
   "cell_type": "code",
   "execution_count": 29,
   "metadata": {},
   "outputs": [
    {
     "data": {
      "text/plain": [
       "3.2188758248682006"
      ]
     },
     "execution_count": 29,
     "metadata": {},
     "output_type": "execute_result"
    }
   ],
   "source": [
    "math.log(25)"
   ]
  },
  {
   "cell_type": "code",
   "execution_count": 30,
   "metadata": {},
   "outputs": [
    {
     "data": {
      "text/plain": [
       "1.3979400086720377"
      ]
     },
     "execution_count": 30,
     "metadata": {},
     "output_type": "execute_result"
    }
   ],
   "source": [
    "math.log10(25)"
   ]
  },
  {
   "cell_type": "code",
   "execution_count": 31,
   "metadata": {},
   "outputs": [
    {
     "data": {
      "text/plain": [
       "20922789888000"
      ]
     },
     "execution_count": 31,
     "metadata": {},
     "output_type": "execute_result"
    }
   ],
   "source": [
    "math.factorial(16)"
   ]
  },
  {
   "cell_type": "code",
   "execution_count": 33,
   "metadata": {},
   "outputs": [
    {
     "data": {
      "text/plain": [
       "3.14"
      ]
     },
     "execution_count": 33,
     "metadata": {},
     "output_type": "execute_result"
    }
   ],
   "source": [
    "round(math.pi, 2)"
   ]
  },
  {
   "cell_type": "code",
   "execution_count": 34,
   "metadata": {},
   "outputs": [
    {
     "data": {
      "text/plain": [
       "0.7512733205972268"
      ]
     },
     "execution_count": 34,
     "metadata": {},
     "output_type": "execute_result"
    }
   ],
   "source": [
    "import random\n",
    "random.random()"
   ]
  },
  {
   "cell_type": "code",
   "execution_count": 36,
   "metadata": {},
   "outputs": [
    {
     "data": {
      "text/plain": [
       "36"
      ]
     },
     "execution_count": 36,
     "metadata": {},
     "output_type": "execute_result"
    }
   ],
   "source": [
    "random.randint(10, 100)"
   ]
  },
  {
   "cell_type": "code",
   "execution_count": 40,
   "metadata": {},
   "outputs": [
    {
     "data": {
      "text/plain": [
       "20.484"
      ]
     },
     "execution_count": 40,
     "metadata": {},
     "output_type": "execute_result"
    }
   ],
   "source": [
    "# Generate levels between 20 and 30m elevation with \n",
    "# 3 digit accuracy  for a dummy site levelling package\n",
    "random.randint(20, 29) + round(random.random(), 3)"
   ]
  },
  {
   "cell_type": "markdown",
   "metadata": {},
   "source": [
    "\n",
    "### Container types\n",
    "- list\n",
    "    - indexed collection \n",
    "    - [1, 2, 3, 4, 5]\n",
    "    - index starts with 0\n",
    "- tuple\n",
    "- set\n",
    "- dict\n",
    "    - Key: value pairs\n",
    "    - { EDPM:\"SNT\", EDEN:\"MS\" }\n",
    "    - { installedCapacity: 70, \n",
    "        UnderConstruction: 20 }\n",
    "    "
   ]
  },
  {
   "cell_type": "code",
   "execution_count": 49,
   "metadata": {},
   "outputs": [
    {
     "name": "stdout",
     "output_type": "stream",
     "text": [
      "first item : 1\n",
      "1\n",
      "2\n",
      "3\n",
      "4\n",
      "5\n",
      "Smallest : 1\n",
      "Largest : 5\n",
      "Sum : 15\n"
     ]
    }
   ],
   "source": [
    "# Get values from a list using a loop or index\n",
    "list  = [1, 2, 3, 4, 5]\n",
    "\n",
    "#Get a specific item\n",
    "print(\"first item :\", list[0])\n",
    "\n",
    "# Get all items in a loop\n",
    "for i in list:\n",
    "    print (i)\n",
    "\n",
    "# Get smallest and largest item\n",
    "print(\"Smallest :\", min(list))\n",
    "print(\"Largest :\", max(list))\n",
    "print(\"Sum :\", sum(list))"
   ]
  },
  {
   "cell_type": "code",
   "execution_count": 54,
   "metadata": {},
   "outputs": [
    {
     "name": "stdout",
     "output_type": "stream",
     "text": [
      "Deb\n"
     ]
    }
   ],
   "source": [
    "# Detail from a Dict can be accessed using the keys\n",
    "import datetime\n",
    "\n",
    "dict = {\n",
    "    'project'    :'Talcher',\n",
    "    'zerodate'   :datetime.date(2022,9,27),\n",
    "    'eic'        :\"Deb\"\n",
    "}\n",
    "\n",
    "print(dict['eic'])"
   ]
  },
  {
   "cell_type": "code",
   "execution_count": null,
   "metadata": {},
   "outputs": [],
   "source": []
  }
 ],
 "metadata": {
  "kernelspec": {
   "display_name": "Python 3 (ipykernel)",
   "language": "python",
   "name": "python3"
  },
  "language_info": {
   "codemirror_mode": {
    "name": "ipython",
    "version": 3
   },
   "file_extension": ".py",
   "mimetype": "text/x-python",
   "name": "python",
   "nbconvert_exporter": "python",
   "pygments_lexer": "ipython3",
   "version": "3.11.0"
  },
  "vscode": {
   "interpreter": {
    "hash": "325c58ef01919113d51076a483cf776cda0bc99290f732d2cf78173a62fbabf0"
   }
  }
 },
 "nbformat": 4,
 "nbformat_minor": 2
}

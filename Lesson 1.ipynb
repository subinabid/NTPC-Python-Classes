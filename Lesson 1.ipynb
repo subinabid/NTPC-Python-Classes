{
 "cells": [
  {
   "cell_type": "markdown",
   "id": "f2f2847d",
   "metadata": {},
   "source": [
    "# NTPC Python Classes\n",
    "\n",
    "- Reference books\n",
    "    1. Intro to Python by Deitel\n",
    "    2. Let us Python by Kanitkar\n",
    "- OS - Windows\n",
    "- Python Version 3.11 (Any Python version 3.x is fine)\n"
   ]
  },
  {
   "cell_type": "markdown",
   "id": "38765c8d",
   "metadata": {},
   "source": [
    "### Rules\n",
    "- This is not a computer science course\n",
    "- There are alternative methods of solving the same problems. Feel free to explore at your own time"
   ]
  },
  {
   "cell_type": "markdown",
   "id": "eaf5db02",
   "metadata": {},
   "source": [
    "# Jupyter notebooks\n",
    "\n",
    "\n",
    "Install Jupyter using ```pip install jupyter ```\n",
    "\n",
    "Start Jupyter using ```jupyter notebook ```\n",
    "\n",
    "\n",
    ">File Extension - ```.ipynb```"
   ]
  },
  {
   "cell_type": "markdown",
   "id": "22a6a042",
   "metadata": {},
   "source": [
    "## Moore's Law\n",
    "It is the observation that the number of transistors in a dense integrated circuit (IC) doubles about every two years\n",
    "> Gorder Moore - Co-Founder (Intel)"
   ]
  },
  {
   "cell_type": "markdown",
   "id": "d183c9cd",
   "metadata": {},
   "source": [
    "## Operating systems\n",
    "1. Windows - From earlier DOS\n",
    "1. Unix - Bell Labs, AT&T, Sun/Oracle Solaris, HP-UX\n",
    "2. GNU Linux\n",
    "2. BSD\n",
    "3. MacOS\n",
    "4. iOS\n",
    "5. Android - Linux Kernal\n",
    "\n",
    "![OS History](static/images/Unix_timeline.svg)\n",
    "\n",
    "> A kernal allocates machine resources\n",
    "\n",
    "> Popular linux distrbutions are Ubuntu, Open Suse, Redhat, Fedora etc"
   ]
  },
  {
   "cell_type": "markdown",
   "id": "f2ae0dc3",
   "metadata": {},
   "source": [
    "## Languages\n",
    "1. Machine Languages\n",
    "2. Assembly languages\n",
    "\n",
    "```\n",
    "load basicpay\n",
    "add da\n",
    "add hra\n",
    "add allowances\n",
    "store grosspay\n",
    "```\n",
    "\n",
    "3. High level languages - Eg: - C, C++, Java, Python, Ruby, Go, Carbon, Swift, Kotlin\n",
    "\n",
    "```python\n",
    "grosspay = basicpay + da + hra + allowances\n",
    "```"
   ]
  },
  {
   "cell_type": "markdown",
   "id": "a54b9f63",
   "metadata": {},
   "source": [
    "## Compilers vs Interpreters\n",
    "**C** is a compiled language. Compiled program runs faster - better performance\n",
    "\n",
    "```gcc hello.c```\n",
    "\n",
    "```./a.out ```\n",
    "\n",
    "**Python** is interpreted\n",
    "\n",
    "```python hello.py```\n",
    "\n",
    "> a.out stands for assembler output"
   ]
  },
  {
   "cell_type": "markdown",
   "id": "13d114a9",
   "metadata": {},
   "source": [
    "## Objects\n",
    "\n",
    "### Classes\n",
    "Reusable software components\n",
    "\n",
    "```python\n",
    "class Project:\n",
    "    name = Talcher\n",
    "    zeroDate = 27/09/2022\n",
    "    contractor  = BHEL\n",
    "    duration =  44\n",
    "}\n",
    "```\n",
    "\n",
    "### Methods\n",
    "Methods perform tasks on classes\n",
    "\n",
    "```python\n",
    "class Project:\n",
    "    zeroDate = 27/09/2022\n",
    "    contractor  = BHEL\n",
    "    duration =  48\n",
    "    delay = 0\n",
    "    \n",
    "    def endDate(self):\n",
    "        return (self.zeroDate + self.duration + self.delay)\n",
    "}\n",
    "```\n",
    "\n",
    "\n",
    "### Instance & reuse\n",
    "Instance is when we use a class\n",
    "\n",
    "```python\n",
    "projectTalcher = Project()\n",
    "print (projectTalcher.zeroDate)\n",
    "print (projectTalcher.endDate())\n",
    "\n",
    "ProjectTalcher.delay = -4\n",
    "print (projectTalcher.endDate())\n",
    "\n",
    "ProjectTelangana = Project()\n",
    "ProjectTelangana.delay = 6\n",
    "print (projectTelangana.endDate())\n",
    "\n",
    "```\n",
    "\n",
    "### Inheritance\n",
    "A station is interested in the project history\n",
    "\n",
    "```python\n",
    "class Station(Project):\n",
    "    codDate = xxx\n",
    "```"
   ]
  },
  {
   "cell_type": "code",
   "execution_count": 30,
   "id": "ed3a4ae5",
   "metadata": {},
   "outputs": [
    {
     "name": "stdout",
     "output_type": "stream",
     "text": [
      "Project Talcher initiated \n",
      "Name: Talcher\n",
      "Zero Date: 2022-09-27 00:00:00\n",
      "Delay: 0\n",
      "End Date: 2026-09-06 00:00:00\n",
      "\n",
      "\n",
      "Project Telangana initiated \n",
      "Name: Telangana\n",
      "Zero Date: 2018-09-27 00:00:00\n",
      "Delay: 0\n",
      "End Date: 2022-09-06 00:00:00\n",
      "\n",
      "Delays added to projects. New End dates are:\n",
      "Talcher - Delay:-4Months. New End date:2026-05-09 00:00:00\n",
      "Telangana - Delay:6Months. New End date:2023-03-05 00:00:00\n",
      "\n"
     ]
    }
   ],
   "source": [
    "# Python Code for above problem\n",
    "import datetime  #datetime is a standard library \n",
    "\n",
    "class Project:                             # define an object called Project\n",
    "    \n",
    "    duration = 48                          # Duration of a project defined as 48 months\n",
    "    \n",
    "    def __init__(self, name, zerodate):    # initiate a project with name and zerodate\n",
    "        self.name = name\n",
    "        self.zerodate = zerodate\n",
    "        self.delay = 0\n",
    "    \n",
    "    def endDate(self):\n",
    "        return self.zerodate + datetime.timedelta(days = self.duration * 30 + self.delay * 30)\n",
    "\n",
    "# Initiate 2 projects, Talcher and Telangana\n",
    "projectTalcher   = Project(\"Talcher\",   datetime.datetime(2022,9,27))\n",
    "projectTelangana = Project(\"Telangana\", datetime.datetime(2018,9,27))\n",
    "\n",
    "print(\"Project Talcher initiated \")\n",
    "print(\"Name:\", projectTalcher.name)\n",
    "print(\"Zero Date:\", projectTalcher.zerodate)\n",
    "print(\"Delay:\", projectTalcher.delay)\n",
    "print(\"End Date:\", projectTalcher.endDate())\n",
    "print(\"\\n\")\n",
    "print(\"Project Telangana initiated \")\n",
    "print(\"Name:\", projectTelangana.name)\n",
    "print(\"Zero Date:\", projectTelangana.zerodate)\n",
    "print(\"Delay:\", projectTelangana.delay)\n",
    "print(\"End Date:\", projectTelangana.endDate())\n",
    "\n",
    "# Update Delay on both Projects\n",
    "projectTalcher.delay = -4\n",
    "projectTelangana.delay = 6\n",
    "print(\"\\n\" + \"Delays added to projects. New End dates are:\")\n",
    "print(\"Talcher - Delay:\" + str(projectTalcher.delay) + \"Months. New End date:\" + str(projectTalcher.endDate()))\n",
    "print(\"Telangana - Delay:\" + str(projectTelangana.delay) + \"Months. New End date:\" + str(projectTelangana.endDate()) + \"\\n\")\n"
   ]
  },
  {
   "cell_type": "markdown",
   "id": "cb8b3415",
   "metadata": {},
   "source": [
    "## Python\n",
    "\n",
    "- Created by Guido van Rossum in 90s\n",
    "- Open Source\n",
    "- easy to learn\n",
    "- Used for web applications (Flask / Django)\n",
    "- popular with AI / ML / Financial community "
   ]
  },
  {
   "cell_type": "markdown",
   "id": "9bbb7df5",
   "metadata": {},
   "source": [
    "## Python libraries\n",
    "\n",
    "Avoids reinventing the wheel\n",
    "\n",
    "Remember ```#include \"math.h\"``` in C language?\n",
    "\n",
    "### Standard libraries\n",
    "\n",
    "- os\n",
    "- datetime\n",
    "- math\n",
    "- json\n",
    "- sqlite3\n",
    "- string\n",
    "\n",
    "### Data Science libraries\n",
    "\n",
    "- NumPy\n",
    "- SciPy\n",
    "- Pandas\n",
    "- Matplotlib\n",
    "- TensorFlow\n",
    "- NLTK"
   ]
  },
  {
   "cell_type": "markdown",
   "id": "96171ee0",
   "metadata": {},
   "source": [
    "## Internet & Cloud"
   ]
  },
  {
   "cell_type": "markdown",
   "id": "dae7deb7",
   "metadata": {},
   "source": [
    "## Big Data\n"
   ]
  },
  {
   "cell_type": "markdown",
   "id": "6ac83bc6",
   "metadata": {},
   "source": [
    ">By \n",
    "[Subin Abid](https://subinabid.xyz/), \n",
    "Project Manager, NTPC Ltd."
   ]
  }
 ],
 "metadata": {
  "kernelspec": {
   "display_name": "Python 3 (ipykernel)",
   "language": "python",
   "name": "python3"
  },
  "language_info": {
   "codemirror_mode": {
    "name": "ipython",
    "version": 3
   },
   "file_extension": ".py",
   "mimetype": "text/x-python",
   "name": "python",
   "nbconvert_exporter": "python",
   "pygments_lexer": "ipython3",
   "version": "3.11.0"
  },
  "vscode": {
   "interpreter": {
    "hash": "325c58ef01919113d51076a483cf776cda0bc99290f732d2cf78173a62fbabf0"
   }
  }
 },
 "nbformat": 4,
 "nbformat_minor": 5
}

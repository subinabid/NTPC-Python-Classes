{
 "cells": [
  {
   "cell_type": "markdown",
   "id": "f2f2847d",
   "metadata": {},
   "source": [
    "# Python for beginners\n",
    "\n",
    "- Reference books\n",
    "    1. Intro to Python by Deitel\n",
    "    2. Let us Python by Kanitkar\n",
    "- OS - Windows\n",
    "- Python Version 3.11 (Any Python version 3.x is fine)\n",
    "- Cheatsheets [1 Keywords](https://ntpccoin-my.sharepoint.com/:b:/g/personal/subinabid_ntpc_co_in/Ecj2kNmvTyBLhHrKvd-froABQmynd5hOOSXYRTTaFJPRcQ?e=0Ey2T8), [2 Data structures](https://ntpccoin-my.sharepoint.com/:b:/g/personal/subinabid_ntpc_co_in/EQQfImWjluNClG7UklBS35oBtzM8OblviKHyEhD3ZahByw?e=TuDA6G), [3 Complex data](https://ntpccoin-my.sharepoint.com/:b:/g/personal/subinabid_ntpc_co_in/ESA4Y4Lan9NHsY67ncKXnMIBf0zlvtqC82ct9CW9B-MTfw?e=4kzcKb), [4 Classes](https://ntpccoin-my.sharepoint.com/:b:/g/personal/subinabid_ntpc_co_in/ESVoQXcMU_lFn7cIv24_oI4BOj3p6XeTVFi6nSofk4MbQQ?e=IGAhVB), [5 Functions](https://ntpccoin-my.sharepoint.com/:b:/g/personal/subinabid_ntpc_co_in/ERN27adnp7VLr0ww8T7Y8C8BLRMiibK34zfdyFP1uf34Tw?e=szQztX)\n",
    "\n",
    "### Rules\n",
    "- This is not a computer science course\n",
    "- There are alternative methods of solving the same problems. Feel free to explore at your own time"
   ]
  },
  {
   "cell_type": "markdown",
   "id": "eaf5db02",
   "metadata": {},
   "source": [
    "### Jupyter notebooks\n",
    "[Jupyter](https://jupyter.org/) is a platform for creating and sharing computational documents. Text and code can be handled in one single file. You could try Jupyterlab if you want to try more features.\n",
    "\n",
    "Install Jupyter using ```pip install jupyter ```\n",
    "\n",
    "Start Jupyter using ```jupyter notebook ```\n",
    "\n",
    ">File Extension - ```.ipynb```\n",
    "\n",
    "\n",
    "### Markdown\n",
    "[Markdown](https://daringfireball.net/projects/markdown/) is a markup! language for formatting text using a text editor. Its popular in blogs, readme, documentation etc. It is a text to html converter. Try the [cheatsheet](https://ntpccoin-my.sharepoint.com/:b:/g/personal/subinabid_ntpc_co_in/EaEcqAaGwhREohUslYrITugBtAPfPKsWaXUP9sRbPJUTog?e=yPqJCd)"
   ]
  },
  {
   "cell_type": "markdown",
   "id": "22a6a042",
   "metadata": {},
   "source": [
    "### Moore's Law\n",
    "It is the observation that the number of transistors in a dense integrated circuit (IC) doubles about every two years\n",
    "> Gordon Moore - Co-Founder (Intel)"
   ]
  },
  {
   "cell_type": "markdown",
   "id": "d183c9cd",
   "metadata": {},
   "source": [
    "## Operating systems\n",
    "1. Windows - From earlier DOS\n",
    "1. Unix - Bell Labs, AT&T, Sun/Oracle Solaris, HP-UX\n",
    "2. GNU Linux\n",
    "2. BSD\n",
    "3. MacOS\n",
    "4. iOS / ipadOS / WatchOS\n",
    "5. Android - Linux Kernal\n",
    "\n",
    "![OS History](static/images/Unix_timeline.svg)\n",
    "\n",
    "> A kernal allocates machine resources\n",
    ">\n",
    "> Popular linux distrbutions are Ubuntu, Open Suse, Redhat, Fedora etc"
   ]
  },
  {
   "cell_type": "markdown",
   "id": "3b628704",
   "metadata": {},
   "source": [
    "## Processors\n",
    "- Intel\n",
    "- AMD\n",
    "- Apple M\n",
    "- Snapdragon\n",
    "- Mediatek\n",
    "- Samsung Exynos\n",
    "\n",
    "## Architectures\n",
    "- ARM Mobile chips, Now into other applications also - Apple M2, AWS Graviton\n",
    "- X86 Popularly known as 32 bit (Remember Intel 8086)\n",
    "- X64 Popularly known as 64 bit (Actually X86-64)\n",
    "\n",
    ">ASIC - Application Specific Integrated Chip | Eg: - Graphics Card, Crypto mining\n",
    "\n",
    "## Platforms\n",
    "Platform is a combination of Processors and OS. Applications are usually written for a platform.\n",
    "\n",
    "Java was popular for being platform independent (in addition to other reasons). This means the same code base will work across all platforms. Java achieved this using **JVM** (*Java Virtual Machines*) sitting over the OS. Python has the same feature"
   ]
  },
  {
   "cell_type": "markdown",
   "id": "f2ae0dc3",
   "metadata": {},
   "source": [
    "## Languages\n",
    "1. Machine Languages\n",
    "2. Assembly languages\n",
    "\n",
    "    >```\n",
    "    >load basicpay\n",
    "    >add da\n",
    "    >add hra\n",
    "    >add allowances\n",
    "    >store grosspay\n",
    "    >```\n",
    "\n",
    "3. High level languages - Eg: - C, C++, Java, Python, Ruby, Go, Carbon, Swift, Kotlin\n",
    "\n",
    "    >```python\n",
    "    >grosspay = basicpay + da + hra + allowances\n",
    "    >```"
   ]
  },
  {
   "cell_type": "markdown",
   "id": "a54b9f63",
   "metadata": {},
   "source": [
    "## Compilers vs Interpreters\n",
    "**C** is a compiled language. Compiled program runs faster - better performance\n",
    "\n",
    "```gcc hello.c```\n",
    "\n",
    "```./a.out ```\n",
    "\n",
    "**Python** is interpreted\n",
    "\n",
    "```python hello.py```\n",
    "\n",
    "> a.out stands for assembler output"
   ]
  },
  {
   "cell_type": "markdown",
   "id": "cb8b3415",
   "metadata": {},
   "source": [
    "## Python\n",
    "\n",
    "- Created by Guido van Rossum in 90s\n",
    "- Open Source\n",
    "- easy to learn\n",
    "- Used for web applications (Flask / Django)\n",
    "- popular with AI / ML / Financial community "
   ]
  },
  {
   "cell_type": "markdown",
   "id": "301ffc58",
   "metadata": {},
   "source": [
    "## Python on Windows\n",
    "Python can be run in 2 different ways\n",
    "1. Interactive method - Execute one statement at a time\n",
    "2. Scripting method - run a ```.py``` file\n",
    "\n",
    "\n",
    "There are a few ways to run Python on windows\n",
    "1. IDLE \n",
    "2. Start python from windows command line by typing ```python``` in the cmd\n",
    "3. A web tool Jupyter notebook\n",
    "4. A text editir like VS Code  - for scripting method"
   ]
  },
  {
   "cell_type": "markdown",
   "id": "503672c6",
   "metadata": {},
   "source": [
    "## Python as a calculator (interactive)"
   ]
  },
  {
   "cell_type": "code",
   "execution_count": 1,
   "id": "de97a8b8",
   "metadata": {},
   "outputs": [
    {
     "data": {
      "text/plain": [
       "25"
      ]
     },
     "execution_count": 1,
     "metadata": {},
     "output_type": "execute_result"
    }
   ],
   "source": [
    "10 + 15"
   ]
  },
  {
   "cell_type": "code",
   "execution_count": 2,
   "id": "b3f5fc67",
   "metadata": {},
   "outputs": [
    {
     "data": {
      "text/plain": [
       "8.7"
      ]
     },
     "execution_count": 2,
     "metadata": {},
     "output_type": "execute_result"
    }
   ],
   "source": [
    "12.7 - 4"
   ]
  },
  {
   "cell_type": "code",
   "execution_count": 3,
   "id": "c7f8f5fb",
   "metadata": {},
   "outputs": [
    {
     "data": {
      "text/plain": [
       "6.35"
      ]
     },
     "execution_count": 3,
     "metadata": {},
     "output_type": "execute_result"
    }
   ],
   "source": [
    "12.7/2"
   ]
  },
  {
   "cell_type": "code",
   "execution_count": 4,
   "id": "656e554f",
   "metadata": {},
   "outputs": [
    {
     "data": {
      "text/plain": [
       "23.55"
      ]
     },
     "execution_count": 4,
     "metadata": {},
     "output_type": "execute_result"
    }
   ],
   "source": [
    "5 * ( 3.6 + 1.11)"
   ]
  },
  {
   "cell_type": "code",
   "execution_count": 5,
   "id": "5af192a8",
   "metadata": {},
   "outputs": [
    {
     "name": "stdout",
     "output_type": "stream",
     "text": [
      "Hello\n"
     ]
    }
   ],
   "source": [
    "print (\"Hello\")"
   ]
  },
  {
   "cell_type": "code",
   "execution_count": 6,
   "id": "6c298d09",
   "metadata": {},
   "outputs": [
    {
     "name": "stdout",
     "output_type": "stream",
     "text": [
      "5\n"
     ]
    }
   ],
   "source": [
    "a = 5\n",
    "print(a)"
   ]
  },
  {
   "cell_type": "code",
   "execution_count": 7,
   "id": "d53dcdf2",
   "metadata": {},
   "outputs": [
    {
     "data": {
      "text/plain": [
       "25"
      ]
     },
     "execution_count": 7,
     "metadata": {},
     "output_type": "execute_result"
    }
   ],
   "source": [
    "5**2 # exponent"
   ]
  },
  {
   "cell_type": "code",
   "execution_count": 8,
   "id": "098b64c6",
   "metadata": {},
   "outputs": [
    {
     "data": {
      "text/plain": [
       "3"
      ]
     },
     "execution_count": 8,
     "metadata": {},
     "output_type": "execute_result"
    }
   ],
   "source": [
    "10//3 # Floor division"
   ]
  },
  {
   "cell_type": "code",
   "execution_count": 9,
   "id": "b21a3a88",
   "metadata": {},
   "outputs": [
    {
     "data": {
      "text/plain": [
       "1"
      ]
     },
     "execution_count": 9,
     "metadata": {},
     "output_type": "execute_result"
    }
   ],
   "source": [
    "10%3 # modulo"
   ]
  },
  {
   "cell_type": "code",
   "execution_count": 10,
   "id": "4b5d8dba",
   "metadata": {},
   "outputs": [
    {
     "name": "stdout",
     "output_type": "stream",
     "text": [
      "15\n"
     ]
    }
   ],
   "source": [
    "a = 5\n",
    "a *=3 # same as a = a * 3\n",
    "print (a)"
   ]
  },
  {
   "cell_type": "markdown",
   "id": "9bbb7df5",
   "metadata": {},
   "source": [
    "## Python libraries\n",
    "\n",
    "Avoids reinventing the wheel. Remember ```#include \"math.h\"``` in C language?\n",
    "\n",
    "### Standard libraries\n",
    "\n",
    "- os\n",
    "- datetime\n",
    "- math\n",
    "- json\n",
    "- sqlite3\n",
    "- string\n",
    "\n",
    "### Data Science libraries\n",
    "\n",
    "- NumPy\n",
    "- SciPy\n",
    "- Pandas\n",
    "- Matplotlib\n",
    "- TensorFlow\n",
    "- NLTK"
   ]
  },
  {
   "cell_type": "code",
   "execution_count": 11,
   "id": "fac2a80f",
   "metadata": {},
   "outputs": [
    {
     "name": "stdout",
     "output_type": "stream",
     "text": [
      "Operating system : Windows_NT\n",
      "CPU Cores : 8\n",
      "User : Subin Abid\n"
     ]
    }
   ],
   "source": [
    "# Use OS library to get system info\n",
    "import os\n",
    "info = os.environ\n",
    "print (\"Operating system :\", info['OS'])\n",
    "print (\"CPU Cores :\", info['NUMBER_OF_PROCESSORS'])\n",
    "print (\"User :\", info['USERNAME'])"
   ]
  },
  {
   "cell_type": "markdown",
   "id": "13d114a9",
   "metadata": {},
   "source": [
    "## Objects\n",
    "\n",
    "### Classes\n",
    "Reusable software components\n",
    "\n",
    "```python\n",
    "class Project:\n",
    "    name = Talcher\n",
    "    zeroDate = 27/09/2022\n",
    "    contractor  = BHEL\n",
    "    duration =  44\n",
    "}\n",
    "```\n",
    "\n",
    "### Methods\n",
    "Methods perform tasks on classes\n",
    "\n",
    "```python\n",
    "class Project:\n",
    "    zeroDate = 27/09/2022\n",
    "    contractor  = BHEL\n",
    "    duration =  48\n",
    "    delay = 0\n",
    "    \n",
    "    def endDate(self):\n",
    "        return (self.zeroDate + self.duration + self.delay)\n",
    "}\n",
    "```\n",
    "\n",
    "\n",
    "### Instance & reuse\n",
    "Instance is when we use a class\n",
    "\n",
    "```python\n",
    "projectTalcher = Project()\n",
    "print (projectTalcher.zeroDate)\n",
    "print (projectTalcher.endDate())\n",
    "\n",
    "ProjectTalcher.delay = -4\n",
    "print (projectTalcher.endDate())\n",
    "\n",
    "ProjectTelangana = Project()\n",
    "ProjectTelangana.delay = 6\n",
    "print (projectTelangana.endDate())\n",
    "\n",
    "```\n",
    "\n",
    "### Inheritance\n",
    "A station is interested in the project history\n",
    "\n",
    "```python\n",
    "class Station(Project):\n",
    "    codDate = xxx\n",
    "```"
   ]
  },
  {
   "cell_type": "code",
   "execution_count": 12,
   "id": "ed3a4ae5",
   "metadata": {},
   "outputs": [
    {
     "name": "stdout",
     "output_type": "stream",
     "text": [
      "Project Talcher initiated \n",
      "Name: Talcher\n",
      "Zero Date: 2022-09-27 00:00:00\n",
      "Delay: 0\n",
      "End Date: 2026-09-06 00:00:00\n",
      "\n",
      "\n",
      "Project Telangana initiated \n",
      "Name: Telangana\n",
      "Zero Date: 2018-09-27 00:00:00\n",
      "Delay: 0\n",
      "End Date: 2022-09-06 00:00:00\n",
      "\n",
      "Delays added to projects. New End dates are:\n",
      "Talcher - Delay:-4Months. New End date:2026-05-09 00:00:00\n",
      "Telangana - Delay:6Months. New End date:2023-03-05 00:00:00\n",
      "\n"
     ]
    }
   ],
   "source": [
    "# Python Code for above problem\n",
    "import datetime  #datetime is a standard library \n",
    "\n",
    "class Project:                             # define an object called Project\n",
    "    \n",
    "    duration = 48                          # Duration of a project defined as 48 months\n",
    "    \n",
    "    def __init__(self, name, zerodate):    # initiate a project with name and zerodate\n",
    "        self.name = name\n",
    "        self.zerodate = zerodate\n",
    "        self.delay = 0\n",
    "    \n",
    "    def endDate(self):\n",
    "        return self.zerodate + datetime.timedelta(days = self.duration * 30 + self.delay * 30)\n",
    "\n",
    "# Initiate 2 projects, Talcher and Telangana\n",
    "projectTalcher   = Project(\"Talcher\",   datetime.datetime(2022,9,27))\n",
    "projectTelangana = Project(\"Telangana\", datetime.datetime(2018,9,27))\n",
    "\n",
    "print(\"Project Talcher initiated \")\n",
    "print(\"Name:\", projectTalcher.name)\n",
    "print(\"Zero Date:\", projectTalcher.zerodate)\n",
    "print(\"Delay:\", projectTalcher.delay)\n",
    "print(\"End Date:\", projectTalcher.endDate())\n",
    "print(\"\\n\")\n",
    "print(\"Project Telangana initiated \")\n",
    "print(\"Name:\", projectTelangana.name)\n",
    "print(\"Zero Date:\", projectTelangana.zerodate)\n",
    "print(\"Delay:\", projectTelangana.delay)\n",
    "print(\"End Date:\", projectTelangana.endDate())\n",
    "\n",
    "# Update Delay on both Projects\n",
    "projectTalcher.delay = -4\n",
    "projectTelangana.delay = 6\n",
    "print(\"\\n\" + \"Delays added to projects. New End dates are:\")\n",
    "print(\"Talcher - Delay:\" + str(projectTalcher.delay) + \"Months. New End date:\" + str(projectTalcher.endDate()))\n",
    "print(\"Telangana - Delay:\" + str(projectTelangana.delay) + \"Months. New End date:\" + str(projectTelangana.endDate()) + \"\\n\")\n"
   ]
  },
  {
   "cell_type": "markdown",
   "id": "eecd8461",
   "metadata": {},
   "source": [
    "___"
   ]
  },
  {
   "cell_type": "markdown",
   "id": "675d30de",
   "metadata": {},
   "source": [
    "### Lesson 2 plan\n",
    "- Introduction to Python programming\n",
    "- Git / Github"
   ]
  },
  {
   "cell_type": "markdown",
   "id": "77738254",
   "metadata": {},
   "source": [
    "___"
   ]
  },
  {
   "cell_type": "markdown",
   "id": "6ac83bc6",
   "metadata": {},
   "source": [
    ">By [Subin Abid](https://subinabid.xyz/), Project Manager, NTPC Ltd."
   ]
  },
  {
   "cell_type": "markdown",
   "id": "3a74d6d6",
   "metadata": {},
   "source": [
    "___"
   ]
  }
 ],
 "metadata": {
  "kernelspec": {
   "display_name": "Python 3 (ipykernel)",
   "language": "python",
   "name": "python3"
  },
  "language_info": {
   "codemirror_mode": {
    "name": "ipython",
    "version": 3
   },
   "file_extension": ".py",
   "mimetype": "text/x-python",
   "name": "python",
   "nbconvert_exporter": "python",
   "pygments_lexer": "ipython3",
   "version": "3.11.0"
  },
  "vscode": {
   "interpreter": {
    "hash": "325c58ef01919113d51076a483cf776cda0bc99290f732d2cf78173a62fbabf0"
   }
  }
 },
 "nbformat": 4,
 "nbformat_minor": 5
}
